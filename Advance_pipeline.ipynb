{
 "cells": [
  {
   "cell_type": "markdown",
   "metadata": {},
   "source": [
    "# Advance Pipeline Land Detection\n",
    "In the Previous project, Canny edge detection and Hough Transformation have limitations on handling shadows, and the constant threshold would not play well with a constantly changing driving environment. A more robust image process logic is require to get a good lane detecting result\n",
    "\n",
    "## Road Map to a More Robust Lane Finding Algorithms \n",
    "The approach would be shown in the following steps\n",
    "1. Camera Calibration and Distortion Correction\n",
    "2. Color and Gradient Threshold Filter\n",
    "3. Perspective Transform Calculation\n",
    "4. Sliding Window Lane Line Finding\n",
    "5. Curvature Measurement\n",
    "\n",
    "## Import\n",
    "I combine all the function from previous notbook into a python script so that I can import all the function here to simplify and only highlight the lane finding logic here\n"
   ]
  },
  {
   "cell_type": "code",
   "execution_count": 1,
   "metadata": {},
   "outputs": [],
   "source": [
    "from frame_process import *"
   ]
  },
  {
   "cell_type": "markdown",
   "metadata": {},
   "source": [
    "## Line Class\n",
    "First let's define the a class to hold the all the status of the line.\n",
    "This would be declare as a golbal variables and can be access across functions"
   ]
  },
  {
   "cell_type": "code",
   "execution_count": 2,
   "metadata": {},
   "outputs": [],
   "source": [
    "class Line():\n",
    "    def __init__(self):\n",
    "        # was the line detected in the last iteration?\n",
    "        self.detected = False\n",
    "        # x values of the last n fits of the line\\\n",
    "        self.recent_xfitted = []\n",
    "        # average x values of the fitted line over the last n iterations\n",
    "        self.bestx = None\n",
    "        # polynomial coefficients averaged over the last n iterations\n",
    "        self.best_fit = None\n",
    "        # polynomial coefficients for the most recent fit\n",
    "        self.current_fit = [np.array([False])]\n",
    "        # radius of curvature of the line in some units\n",
    "        self.radius_of_curvature = None\n",
    "        # Confident level, calculated after find the line poly\n",
    "        self.confident = 0\n",
    "        # Fail to detect line compare previous result\n",
    "        self.fail_count = 0\n",
    "        # distance in pixels of vehicle center from the line\n",
    "        self.line_to_center = None\n",
    "        # x values for detected line pixels\n",
    "        self.allx = None\n",
    "        # y values for detected line pixels this should never change base on the same resolution\n",
    "        self.ploty = None\n",
    "        # difference in fit coefficients between last and new fits\n",
    "        self.diffs = np.array([0, 0, 0], dtype='float')\n"
   ]
  },
  {
   "cell_type": "markdown",
   "metadata": {},
   "source": [
    "## Curvature Calculation and polynomial fit the line\n",
    "Here I combined polynomial fit with curvature calcuation into one fucntion. This function will take x and y coordinates and calculate the polynomial coefficients and curvature in meters."
   ]
  },
  {
   "cell_type": "code",
   "execution_count": 3,
   "metadata": {},
   "outputs": [],
   "source": [
    "def fit_one_line(img_shape, y, x, ploty):\n",
    "    \"\"\"\n",
    "    :param img_shape: process image shape\n",
    "    :param y: collection of y coordinates\n",
    "    :param x: collection of x coordinates\n",
    "    :param ploty: A uniformed y coordinates for plotting\n",
    "    :return: fitted x for easy plotting\n",
    "            and polynomial coefficient both in pixel and meter\n",
    "    \"\"\"\n",
    "    # it a second order polynomial to each with np.polyfit()\n",
    "    fit = np.polyfit(y, x, 2)\n",
    "\n",
    "    # Calcuated X coordinate using ploynomial coefficient and ploty\n",
    "    fitx = fit[0] * ploty ** 2 + fit[1] * ploty + fit[2]\n",
    "\n",
    "    # Define conversions in x and y from pixels space to meters\n",
    "    ym_per_pix = 3 / 80\n",
    "    xm_per_pix = 3.7 / 570\n",
    "\n",
    "    # calculate polynomials in meters\n",
    "    fit_cr = np.polyfit(y * ym_per_pix, x * xm_per_pix, 2)\n",
    "\n",
    "    # Define y-value where we want radius of curvature\n",
    "    # We'll choose the maximum y-value, corresponding to the bottom of the image\n",
    "    y_eval = img_shape[0]\n",
    "\n",
    "    # Implement the calculation of R_curve (radius of curvature)\n",
    "    curve_rad = (1 + (2 * fit_cr[0] * y_eval * ym_per_pix + fit_cr[1]) ** 2) ** 1.5 / np.absolute(\n",
    "        2 * fit_cr[0])\n",
    "    return fitx, fit, curve_rad\n"
   ]
  },
  {
   "cell_type": "markdown",
   "metadata": {},
   "source": [
    "## Sliding Window Lane Finding\n",
    "Next, I define a fucntion that uses sliding window algorithm to process the binary image, which is the output of our image filter process. \n",
    "`find_lane_pixels` is able to run single lane line and run all lane lines options. In the future code, I will process left and right lane line separately since to reduce run time."
   ]
  },
  {
   "cell_type": "code",
   "execution_count": 4,
   "metadata": {
    "jupyter": {
     "source_hidden": true
    }
   },
   "outputs": [],
   "source": [
    "def find_lane_pixels(binary_warped, run_left=False, run_all=False, plot=False):\n",
    "    # Logic to setup which line to run\n",
    "    left_run = run_left or run_all\n",
    "    right_run = not run_left or run_all\n",
    "    \n",
    "    if plot:\n",
    "        # Create an output image to draw on and visualize the result\n",
    "        out_img = np.dstack((binary_warped, binary_warped, binary_warped))\n",
    "\n",
    "    # Create a uniformed y coordinates for plotting\n",
    "    img_shape = binary_warped.shape\n",
    "    ploty = np.linspace(0, img_shape[1] - 1, img_shape[0])\n",
    "    # Take a histogram of the bottom half of the image\n",
    "    histogram = np.sum(binary_warped[binary_warped.shape[0] // 2:, :], axis=0)\n",
    "    # Find the peak of the left and right halves of the histogram\n",
    "    # These will be the starting point for the left and right lines\n",
    "    midpoint = np.int(histogram.shape[0] // 2)\n",
    "    leftx_base = np.argmax(histogram[:midpoint])\n",
    "    rightx_base = np.argmax(histogram[midpoint:]) + midpoint\n",
    "\n",
    "    # HYPERPARAMETERS\n",
    "    # Choose the number of sliding windows\n",
    "    nwindows = 9\n",
    "    # Set the width of the windows +/- margin\n",
    "    margin = 100\n",
    "    # Set minimum number of pixels found to recenter window\n",
    "    minpix = 50\n",
    "\n",
    "    # Set height of windows - based on nwindows above and image shape\n",
    "    window_height = np.int(binary_warped.shape[0] // nwindows)\n",
    "    # Identify the x and y positions of all nonzero pixels in the image\n",
    "    nonzero = binary_warped.nonzero()\n",
    "    nonzeroy = np.array(nonzero[0])\n",
    "    nonzerox = np.array(nonzero[1])\n",
    "    # Current positions to be updated later for each window in nwindows\n",
    "    leftx_current = leftx_base\n",
    "    rightx_current = rightx_base\n",
    "\n",
    "    # Create empty lists to receive left and right lane pixel indices\n",
    "    left_lane_inds = []\n",
    "    right_lane_inds = []\n",
    "\n",
    "    # Step through the windows one by one\n",
    "    for window in range(nwindows):\n",
    "        # Identify window boundaries in x and y (and right and left)\n",
    "        win_y_low = binary_warped.shape[0] - (window + 1) * window_height\n",
    "        win_y_high = binary_warped.shape[0] - window * window_height\n",
    "        if left_run:\n",
    "            win_xleft_low = leftx_current - margin\n",
    "            win_xleft_high = leftx_current + margin\n",
    "            # Identify the nonzero pixels in x and y within the window ###\n",
    "            good_left_inds = ((nonzeroy >= win_y_low) & (nonzeroy < win_y_high) &\n",
    "                              (nonzerox >= win_xleft_low) & (nonzerox < win_xleft_high)).nonzero()[0]\n",
    "            # Append these indices to the lists\n",
    "            left_lane_inds.append(good_left_inds)\n",
    "            # If found > minpix pixels, recenter next window\n",
    "            # (`right` or `leftx_current`) on their mean position\n",
    "            if len(good_left_inds) > minpix:\n",
    "                leftx_current = np.int(np.mean(nonzerox[good_left_inds]))\n",
    "\n",
    "        if right_run:\n",
    "            win_xright_low = rightx_current - margin\n",
    "            win_xright_high = rightx_current + margin\n",
    "\n",
    "            good_right_inds = ((nonzeroy >= win_y_low) & (nonzeroy < win_y_high) &\n",
    "                               (nonzerox >= win_xright_low) & (nonzerox < win_xright_high)).nonzero()[0]\n",
    "            right_lane_inds.append(good_right_inds)\n",
    "            if len(good_right_inds) > minpix:\n",
    "                rightx_current = np.int(np.mean(nonzerox[good_right_inds]))\n",
    "        if plot:\n",
    "             # Draw the windows on the visualization image\n",
    "            cv2.rectangle(out_img,(win_xleft_low,win_y_low),\n",
    "            (win_xleft_high,win_y_high),(0,255,0), 2) \n",
    "            cv2.rectangle(out_img,(win_xright_low,win_y_low),\n",
    "            (win_xright_high,win_y_high),(0,255,0), 2) \n",
    "\n",
    "    if left_run:\n",
    "        try:\n",
    "            left_lane_inds = np.concatenate(left_lane_inds)\n",
    "        except ValueError:\n",
    "            # Avoids an error if the above is not implemented fully\n",
    "            pass\n",
    "\n",
    "        # Extract left line pixel positions\n",
    "        leftx = nonzerox[left_lane_inds]\n",
    "        lefty = nonzeroy[left_lane_inds]\n",
    "        left_fitx, left_fit, left_curve = fit_one_line(img_shape, lefty, leftx, ploty)\n",
    "\n",
    "    if right_run:\n",
    "        try:\n",
    "            right_lane_inds = np.concatenate(right_lane_inds)\n",
    "        except ValueError:\n",
    "            # Avoids an error if the above is not implemented fully\n",
    "            pass\n",
    "        # Extract right line pixel position\n",
    "        rightx = nonzerox[right_lane_inds]\n",
    "        righty = nonzeroy[right_lane_inds]\n",
    "        right_fitx, right_fit, right_curve = fit_one_line(img_shape, righty, rightx, ploty)\n",
    "\n",
    "    ## Visualization ##\n",
    "    # Draw the windows on the visualization image if the plot flag is set\n",
    "    if plot:\n",
    "    \n",
    "        # Colors in the left and right lane regions\n",
    "        out_img[lefty, leftx] = [255, 0, 0]\n",
    "        out_img[righty, rightx] = [0, 0, 255]\n",
    "\n",
    "        # Plots the left and right polynomials on the lane lines\n",
    "        plt.plot(left_fitx, ploty, color='yellow')\n",
    "        plt.plot(right_fitx, ploty, color='yellow')\n",
    "        plt.imshow(out_img)\n",
    "    # Logic to return correct variables\n",
    "    if run_all:\n",
    "        return left_fitx, right_fitx, ploty, left_fit, right_fit, [left_curve, right_curve]\n",
    "    else:\n",
    "        if run_left:\n",
    "            return left_fitx, ploty, left_fit, left_curve\n",
    "        else:\n",
    "            return right_fitx, ploty, right_fit, right_curve"
   ]
  },
  {
   "cell_type": "code",
   "execution_count": 5,
   "metadata": {},
   "outputs": [
    {
     "name": "stdout",
     "output_type": "stream",
     "text": [
      "[2934.5248026953445, 48941.39860379955]\n"
     ]
    },
    {
     "data": {
      "image/png": "[encoded data removed]",
      "text/plain": [
       "<Figure size 432x288 with 1 Axes>"
      ]
     },
     "metadata": {
      "needs_background": "light"
     },
     "output_type": "display_data"
    }
   ],
   "source": [
    "# Test Code to show how find_lane_pixels works\n",
    "\n",
    "straight_img = mpimg.imread('test_images/straight_lines1.jpg')\n",
    "test_undist = undistort_img(straight_img)\n",
    "test_binary_wrap = binary_wrap_img(test_undist)\n",
    "\n",
    "left_fitx, right_fitx, ploty, left_fit, right_fit, curvatures = \\\n",
    "find_lane_pixels(test_binary_wrap,run_all=True,plot=True)\n",
    "print(curvatures)"
   ]
  },
  {
   "cell_type": "markdown",
   "metadata": {},
   "source": [
    "To save runtime, `find_lane_pixel` would only run when there is no previous result or previous lane finding failed. Once there is a successful lane detection before, we would only run search around previous poly fit lines.Below function is take previous ploynomial coeffieicent and search the pixels around that region instead of defining windows again."
   ]
  },
  {
   "cell_type": "code",
   "execution_count": 6,
   "metadata": {},
   "outputs": [],
   "source": [
    "def search_around_poly(binary_warped, run_left=False, run_all=False, plot=False):\n",
    "    # HYPERPARAMETER\n",
    "    # Choose the width of the margin around the previous polynomial to search\n",
    "    # The quiz grader expects 100 here, but feel free to tune on your own!\n",
    "    margin = 100\n",
    "    # Create a uniformed y coordinates for plotting\n",
    "    img_shape = binary_warped.shape\n",
    "    ploty = np.linspace(0, img_shape[1] - 1, img_shape[0])\n",
    "\n",
    "    # Logic to setup which line to run\n",
    "\n",
    "    left_run = run_left or run_all\n",
    "    right_run = not run_left or run_all\n",
    "\n",
    "    # Grab activated pixels\n",
    "    nonzero = binary_warped.nonzero()\n",
    "    nonzeroy = np.array(nonzero[0])\n",
    "    nonzerox = np.array(nonzero[1])\n",
    "\n",
    "    if left_run:\n",
    "        left_lane_inds = ((nonzerox >= (left_line.current_fit[0] * nonzeroy ** 2 + left_line.current_fit[1] * nonzeroy +\n",
    "                                        left_line.current_fit[2] - margin)) &\n",
    "                          (nonzerox < (left_line.current_fit[0] * nonzeroy ** 2 + left_line.current_fit[1] * nonzeroy +\n",
    "                                       left_line.current_fit[2] + margin))).nonzero()[0]\n",
    "        # Again, extract left and right line pixel positions\n",
    "        leftx = nonzerox[left_lane_inds]\n",
    "        lefty = nonzeroy[left_lane_inds]\n",
    "        left_fitx, left_fit, left_curve = fit_one_line(img_shape, lefty, leftx, ploty)\n",
    "\n",
    "    if right_run:\n",
    "        right_lane_inds = \\\n",
    "            ((nonzerox >= (right_line.current_fit[0] * nonzeroy ** 2 + right_line.current_fit[1] * nonzeroy +\n",
    "                           right_line.current_fit[2] - margin)) &\n",
    "             (nonzerox < (right_line.current_fit[0] * nonzeroy ** 2 + right_line.current_fit[1] * nonzeroy +\n",
    "                          right_line.current_fit[2] + margin))).nonzero()[0]\n",
    "        rightx = nonzerox[right_lane_inds]\n",
    "        righty = nonzeroy[right_lane_inds]\n",
    "        right_fitx, right_fit, right_curve = fit_one_line(img_shape, righty, rightx, ploty)\n",
    "\n",
    "    ## Visualization ##\n",
    "    # Create an image to draw on and an image to show the selection window\n",
    "    if plot:\n",
    "        out_img = np.dstack((binary_warped, binary_warped, binary_warped)) * 255\n",
    "        window_img = np.zeros_like(out_img)\n",
    "        # Color in left and right line pixels\n",
    "        out_img[nonzeroy[left_lane_inds], nonzerox[left_lane_inds]] = [255, 0, 0]\n",
    "        out_img[nonzeroy[right_lane_inds], nonzerox[right_lane_inds]] = [0, 0, 255]\n",
    "\n",
    "        # Generate a polygon to illustrate the search window area\n",
    "        # And recast the x and y points into usable format for cv2.fillPoly()\n",
    "        left_line_window1 = np.array([np.transpose(np.vstack([left_fitx - margin, ploty]))])\n",
    "        left_line_window2 = np.array([np.flipud(np.transpose(np.vstack([left_fitx + margin,\n",
    "                                                                        ploty])))])\n",
    "        left_line_pts = np.hstack((left_line_window1, left_line_window2))\n",
    "        right_line_window1 = np.array([np.transpose(np.vstack([right_fitx - margin, ploty]))])\n",
    "        right_line_window2 = np.array([np.flipud(np.transpose(np.vstack([right_fitx + margin,\n",
    "                                                                         ploty])))])\n",
    "        right_line_pts = np.hstack((right_line_window1, right_line_window2))\n",
    "\n",
    "        # Draw the lane onto the warped blank image\n",
    "        cv2.fillPoly(window_img, np.int_([left_line_pts]), (0, 255, 0))\n",
    "        cv2.fillPoly(window_img, np.int_([right_line_pts]), (0, 255, 0))\n",
    "        result = cv2.addWeighted(out_img, 1, window_img, 0.3, 0)\n",
    "\n",
    "        # Plot the polynomial lines onto the image\n",
    "        plt.plot(left_fitx, ploty, color='yellow')\n",
    "        plt.plot(right_fitx, ploty, color='yellow')\n",
    "\n",
    "        plt.imshow(result)\n",
    "\n",
    "    # Logic to return correct variables\n",
    "    if run_all:\n",
    "        return left_fitx, right_fitx, ploty, left_fit, right_fit, [left_curve, right_curve]\n",
    "    else:\n",
    "        if run_left:\n",
    "            return left_fitx, ploty, left_fit, left_curve\n",
    "        else:\n",
    "            return right_fitx, ploty, right_fit, right_curve\n"
   ]
  },
  {
   "cell_type": "code",
   "execution_count": 7,
   "metadata": {},
   "outputs": [
    {
     "data": {
      "image/png": "[encoded data removed]",
      "text/plain": [
       "<Figure size 432x288 with 1 Axes>"
      ]
     },
     "metadata": {
      "needs_background": "light"
     },
     "output_type": "display_data"
    }
   ],
   "source": [
    "# Test Code for search around poly\n",
    "# Delcare the line class and record previous ploy fit values\n",
    "left_line = Line()\n",
    "right_line = Line()\n",
    "left_line.current_fit = left_fit\n",
    "right_line.current_fit = right_fit\n",
    "\n",
    "left_fitx, right_fitx, ploty, left_fit, right_fit, curvatures = \\\n",
    "search_around_poly(test_binary_wrap,run_all=True,plot=True)\n"
   ]
  },
  {
   "cell_type": "code",
   "execution_count": 8,
   "metadata": {
    "jupyter": {
     "source_hidden": true
    }
   },
   "outputs": [],
   "source": [
    "# Draw_poly_fill uses the binary wrap and undist images and all the lane detection result to plot the final output image.\n",
    "# \n",
    "def draw_poly_fill(binary_wrap, undist):\n",
    "    # Draw unwarped the poly fill onto the image\n",
    "    # Create an image to draw the lines on\n",
    "    warp_zero = np.zeros_like(binary_wrap).astype(np.uint8)\n",
    "    color_warp = np.dstack((warp_zero, warp_zero, warp_zero))\n",
    "\n",
    "    left_fitx = left_line.bestx\n",
    "    right_fitx = right_line.bestx\n",
    "    ploty = left_line.ploty\n",
    "\n",
    "    # Recast the x and y points into usable format for cv2.fillPoly()\n",
    "    pts_left = np.array([np.transpose(np.vstack([left_fitx, ploty]))])\n",
    "    pts_right = np.array([np.flipud(np.transpose(np.vstack([right_fitx, ploty])))])\n",
    "    pts = np.hstack((pts_left, pts_right))\n",
    "\n",
    "    # Draw the lane onto the warped blank image\n",
    "    cv2.fillPoly(color_warp, np.int_([pts]), (0, 255, 0))\n",
    "\n",
    "    # Warp the blank back to original image space using inverse perspective matrix (Minv)\n",
    "    newwarp = perspective_transform(color_warp, inverse=True)\n",
    "    # cv2.warpPerspective(color_warp, Minv, (image.shape[1], image.shape[0]))\n",
    "    # Combine the result with the original image\n",
    "    result = cv2.addWeighted(undist, 1, newwarp, 0.3, 0)\n",
    "    \n",
    "    # Add Curvature results to the image\n",
    "    left_curve_text = 'Left Radius of Curvature: ' + str(round(left_line.radius_of_curvature, 2)) + 'Meters'\n",
    "    right_curve_text = 'Right Radius of Curvature: ' + str(round(right_line.radius_of_curvature, 2)) + 'Meters'\n",
    "   \n",
    "    result = cv2.putText(result, left_curve_text, (300, 100), cv2.FONT_HERSHEY_SIMPLEX,\n",
    "                         1, (0, 255, 255), 2, cv2.LINE_AA)\n",
    "    result = cv2.putText(result, right_curve_text, (300, 150), cv2.FONT_HERSHEY_SIMPLEX,\n",
    "                         1, (0, 255, 255), 2, cv2.LINE_AA)\n",
    "\n",
    "    # To dubug, put fail counter and confident level onto the image\n",
    "    left_line_status = 'left: Fail counter:' + str(left_line.fail_count) + ' confident:' + str(left_line.confident)\n",
    "    right_line_status = 'right: Fail counter:' + str(right_line.fail_count) + ' confident:' + str(right_line.confident)\n",
    "\n",
    "    result = cv2.putText(result, left_line_status, (50, 50), cv2.FONT_HERSHEY_SIMPLEX,\n",
    "                         1, (0, 255, 255), 2, cv2.LINE_AA)\n",
    "    result = cv2.putText(result, right_line_status, (600, 50), cv2.FONT_HERSHEY_SIMPLEX,\n",
    "                         1, (0, 255, 255), 2, cv2.LINE_AA)\n",
    "    return result"
   ]
  },
  {
   "cell_type": "markdown",
   "metadata": {},
   "source": [
    "## Single Lane Detection logic\n",
    "I decide to detect left and right lane separately. If there only one lane detection yield bad result, I don't have to recalculate the other lane and waste runtime on that. This will speed up the algorithm. \n",
    "This function will run for both left and right lane. To differentiate left and right in the lane finding logic, the flag called run_left is implemented. Below are how this logic works:\n",
    "### Decide the complexity of the lane detection based on previous results\n",
    "if previous result is lane detected and it has high confident, then uses search_around poly.\n",
    "Otherwise, see if the fail counter is between 0 and 10, then perform sliding window search.\n",
    "If the fail counter is greater, use a more complex color filtering logic by flag overdrive on` binary_wrap_img` function\n",
    "### First time running\n",
    "The very first iteration would have no previous result. Therefore, when radius of curvature is None, append the first iteration result to the line class without any checks. Also, during the complexity decision, with fail count = 0 and line.detected =  False, first iteration would use window sliding logic to pick up the lane line.\n",
    "### Confident Check\n",
    "For the confident check/sanity check, I check for radius of curvatures, line distance to the image center and polynomial coefficient against previous results. If the check passes, add 1 to the confident variable. When the confident is higher than 1, meaning the current result is good and then append it to the line result\n"
   ]
  },
  {
   "cell_type": "code",
   "execution_count": 9,
   "metadata": {},
   "outputs": [],
   "source": [
    "def single_lane_detection(line, undist, run_left=False, fail_limit=10):\n",
    "    # If the line detected previous iteration, preform search base on previous polynomial\n",
    "    binary_wrap = binary_wrap_img(undist)\n",
    "    if line.detected and line.confident >= 2:\n",
    "        fitx, ploty, fit, curve = search_around_poly(binary_wrap, run_left)\n",
    "    else:\n",
    "        # If fail counter is less, preform simplify image filter and use sliding window to find lines\n",
    "        if line.fail_count < fail_limit and line.fail_count >= 0:\n",
    "            fitx, ploty, fit, curve = find_lane_pixels(binary_wrap, run_left)\n",
    "\n",
    "        # If fail too many times, preform a more complex image filter and sliding window\n",
    "        else:\n",
    "            binary_wrap = binary_wrap_img(undist, overdrive=True)\n",
    "            # Need to find a way to share this in case of the other line failed to detect as well\n",
    "            fitx, ploty, fit, curve = find_lane_pixels(binary_wrap, run_left)\n",
    "\n",
    "    # Calculate in meters\n",
    "    current_line_to_center = abs(fitx[-1] - binary_wrap.shape[0] / 2)\n",
    "    # if the radius is None meaning first time run, saving all the parameter in line\n",
    "    if line.radius_of_curvature is None:\n",
    "        line.detected = True\n",
    "        line.radius_of_curvature = curve\n",
    "        line.current_fit = fit\n",
    "        line.recent_xfitted = fitx\n",
    "        line.bestx = fitx\n",
    "        line.allx = [fitx]\n",
    "        line.line_to_center = current_line_to_center\n",
    "        line.ploty = ploty\n",
    "    else:\n",
    "        # Here check for current results with previous.\n",
    "        confident = 0\n",
    "        if line.radius_of_curvature * (1 + 0.2) >= curve > line.radius_of_curvature * (1 - 0.2):\n",
    "            confident += 1\n",
    "        # Check line distance to the center\n",
    "        if line.line_to_center * (1 + 0.1) >= current_line_to_center > \\\n",
    "                line.line_to_center * (1 - 0.1):\n",
    "            confident += 1\n",
    "        # Calculate fit coefficients difference\n",
    "        if np.all(abs(fit) <= abs(line.current_fit) * (1 + 0.5)) and np.all(\n",
    "                abs(fit) > abs(line.current_fit) * (1 - 0.5)):\n",
    "            confident += 1\n",
    "        # try not strict one first, can change later\n",
    "        # If the confident level is great than 1, record the result into line\n",
    "        if confident >= 1:\n",
    "            # Append result into line\n",
    "            line.detected = True\n",
    "            line.radius_of_curvature = curve\n",
    "            line.current_fit = fit\n",
    "            line.recent_xfitted = fitx\n",
    "            line.allx.append(fitx)\n",
    "            line.line_to_center = current_line_to_center\n",
    "            line.fail_count = 0\n",
    "\n",
    "            # average x fitted only takes the most recent 20\n",
    "            if len(line.allx) > 20:\n",
    "                line.bestx = np.mean(line.allx[-20:], axis=0)\n",
    "            else:\n",
    "                line.bestx = np.mean(line.allx, axis=0)\n",
    "        # else increase fail counter, discard current result\n",
    "        else:\n",
    "            line.fail_count += 1\n",
    "        line.confident = confident\n",
    "    return binary_wrap\n"
   ]
  },
  {
   "cell_type": "markdown",
   "metadata": {},
   "source": [
    "## Video Processing\n",
    "The video lane detection logic will un-distort the image and perform single lane detection logic to left and right lanes perspectively. Finally, it would call `draw_poly_fill` to fill the lane line with green shade and print out curvatures and debug message on the screen"
   ]
  },
  {
   "cell_type": "code",
   "execution_count": 10,
   "metadata": {},
   "outputs": [],
   "source": [
    "def video_lane_detection(img):\n",
    "    global left_line, right_line\n",
    "    fail_allowed = 5\n",
    "\n",
    "    # Un-distort image using Camera calibration data\n",
    "    undist = undistort_img(img)\n",
    "\n",
    "    # Left line detection\n",
    "    binary_wrap = single_lane_detection(left_line, undist, True, fail_allowed)\n",
    "    # Right line detection\n",
    "    _ = single_lane_detection(right_line, undist, False, fail_allowed)\n",
    "\n",
    "\n",
    "    result_img = draw_poly_fill(binary_wrap, undist )\n",
    "    return result_img"
   ]
  },
  {
   "cell_type": "code",
   "execution_count": 12,
   "metadata": {},
   "outputs": [],
   "source": [
    "test_result = video_lane_detection(straight_img)\n",
    "mpimg.imsave('output_images/poly_final.jpg', test_result)"
   ]
  },
  {
   "cell_type": "code",
   "execution_count": 13,
   "metadata": {},
   "outputs": [
    {
     "name": "stderr",
     "output_type": "stream",
     "text": [
      "t:   0%|          | 0/1260 [00:00<?, ?it/s, now=None]"
     ]
    },
    {
     "name": "stdout",
     "output_type": "stream",
     "text": [
      "Moviepy - Building video output_video/project_video.mp4.\n",
      "Moviepy - Writing video output_video/project_video.mp4\n",
      "\n"
     ]
    },
    {
     "name": "stderr",
     "output_type": "stream",
     "text": [
      "                                                                \r"
     ]
    },
    {
     "name": "stdout",
     "output_type": "stream",
     "text": [
      "Moviepy - Done !\n",
      "Moviepy - video ready output_video/project_video.mp4\n",
      "CPU times: user 8min 3s, sys: 1min 47s, total: 9min 51s\n",
      "Wall time: 8min\n"
     ]
    }
   ],
   "source": [
    "from moviepy.editor import VideoFileClip\n",
    "from IPython.display import HTML\n",
    "\n",
    "left_line = Line()\n",
    "right_line = Line()\n",
    "\n",
    "output = 'output_video/project_video.mp4'\n",
    "## To speed up the testing process you may want to try your pipeline on a shorter subclip of the video\n",
    "## To do so add .subclip(start_second,end_second) to the end of the line below\n",
    "## Where start_second and end_second are integer values representing the start and end of the subclip\n",
    "## You may also uncomment the following line for a subclip of the first 5 seconds\n",
    "# clip2 = VideoFileClip('../challenge_video.mp4').subclip(0, 3)\n",
    "clip2 = VideoFileClip('project_video.mp4')\n",
    "project_clip = clip2.fl_image(video_lane_detection)\n",
    "%time project_clip.write_videofile(output, audio=False)"
   ]
  },
  {
   "cell_type": "code",
   "execution_count": 14,
   "metadata": {},
   "outputs": [
    {
     "data": {
      "text/html": [
       "\n",
       "<video width=\"960\" height=\"540\" controls>\n",
       "  <source src=\"output_video/project_video.mp4\">\n",
       "</video>\n"
      ],
      "text/plain": [
       "<IPython.core.display.HTML object>"
      ]
     },
     "execution_count": 14,
     "metadata": {},
     "output_type": "execute_result"
    }
   ],
   "source": [
    "HTML(\"\"\"\n",
    "<video width=\"960\" height=\"540\" controls>\n",
    "  <source src=\"{0}\">\n",
    "</video>\n",
    "\"\"\".format(output))"
   ]
  },
  {
   "cell_type": "code",
   "execution_count": null,
   "metadata": {},
   "outputs": [],
   "source": []
  }
 ],
 "metadata": {
  "kernelspec": {
   "display_name": "Python 3",
   "language": "python",
   "name": "python3"
  },
  "language_info": {
   "codemirror_mode": {
    "name": "ipython",
    "version": 3
   },
   "file_extension": ".py",
   "mimetype": "text/x-python",
   "name": "python",
   "nbconvert_exporter": "python",
   "pygments_lexer": "ipython3",
   "version": "3.7.7"
  }
 },
 "nbformat": 4,
 "nbformat_minor": 4
}
