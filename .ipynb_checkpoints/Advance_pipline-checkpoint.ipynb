{
 "cells": [
  {
   "cell_type": "markdown",
   "metadata": {},
   "source": [
    "# Advance Lane Finding Pipeline\n",
    "In the Previous project, Canny edge detection and Hough Transformation have limitations on handling shadows, and the constant threshold would not play well with a constantly changing driving environment.\n",
    "\n",
    "## Approach to a more robust Lane Finding Agrisim \n",
    "The approach would be shown in the following steps\n",
    "1. Camera Calibration and Distortion Correction\n",
    "2. Colour and Graduation Threshold Filter\n",
    "3. Perspective Transform Calculation\n",
    "4. Sliding Window Lane Line Finding\n",
    "5. Curvature Measurement\n",
    "\n",
    "### Package Import"
   ]
  },
  {
   "cell_type": "code",
   "execution_count": 4,
   "metadata": {},
   "outputs": [],
   "source": [
    "import cv2\n",
    "import numpy as np\n",
    "import matplotlib.pyplot as plt\n",
    "import matplotlib.image as mpimg\n",
    "#glob is used to reading all the similar calbration image\n",
    "import glob\n"
   ]
  },
  {
   "cell_type": "markdown",
   "metadata": {},
   "source": [
    "### Camera Calibration\n",
    "Using Chessboard images taken from different angle to calibrate the image distortion for our camera"
   ]
  },
  {
   "cell_type": "code",
   "execution_count": 9,
   "metadata": {
    "slideshow": {
     "slide_type": "slide"
    }
   },
   "outputs": [],
   "source": [
    "# import all cal images\n",
    "cal_images = glob.glob ('camera_cal/calibration*.jpg')\n",
    "\n",
    "# Arrays to store object points and image points from all images\n",
    "\n",
    "objpoints = []\n",
    "imgpoints = []\n",
    "\n",
    "# Obj points should not change and only based on the chesss board format\n",
    "# Preparing object points, like (0,0,0), (1,0,0) ...\n",
    "objp = np.zeros((6*9,3),np.float32)\n",
    " \n",
    "objp[:,:2] = np.mgrid[0:9,0:6].T.reshape(-1,2) # Creating x y coordinates\n",
    "\n",
    "for fname in cal_images:\n",
    "    # read in each image\n",
    "    img = mpimg.imread(fname)\n",
    "    \n",
    "    # Convert to gray scale\n",
    "    gray = cv2.cvtColor(img,cv2.COLOR_BGR2GRAY)\n",
    "    \n",
    "    # Find Chesse board corners\n",
    "    ret, corners = cv2.findChessboardCorners (gray, (9,6),None)\n",
    "    \n",
    "    if ret:\n",
    "        imgpoints.append(corners)\n",
    "        objpoints.append(objp)\n",
    "        \n",
    "        img = cv2.drawChessboardCorners(img,(9,6),corners,ret)\n",
    "        #print (fname)\n",
    "        mpimg.imsave('temp_output/'+fname, img)"
   ]
  },
  {
   "cell_type": "markdown",
   "metadata": {},
   "source": [
    "Here is the output check on the finding corners\n",
    "![corners](temp_output/camera_cal/calibration2.jpg)\n",
    "Once I have all the Corners found and append into the imgpoints, I can operate camera calibration by using cv2 camera calibration"
   ]
  },
  {
   "cell_type": "code",
   "execution_count": null,
   "metadata": {},
   "outputs": [],
   "source": [
    "\n",
    "ret,mtx,dist,rvecs,tvecs = cv2.calibrateCamera(objpoints,imgpoints,\n",
    "                                               img.shape[1:],None,None)\n",
    "    undist = cv2.undistort(img,mtx,dist,None,mtx)\n",
    "    return undist\n",
    "\n"
   ]
  }
 ],
 "metadata": {
  "kernelspec": {
   "display_name": "Python 3",
   "language": "python",
   "name": "python3"
  },
  "language_info": {
   "codemirror_mode": {
    "name": "ipython",
    "version": 3
   },
   "file_extension": ".py",
   "mimetype": "text/x-python",
   "name": "python",
   "nbconvert_exporter": "python",
   "pygments_lexer": "ipython3",
   "version": "3.7.7"
  }
 },
 "nbformat": 4,
 "nbformat_minor": 4
}
